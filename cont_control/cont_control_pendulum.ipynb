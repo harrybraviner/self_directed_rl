{
 "cells": [
  {
   "cell_type": "code",
   "execution_count": 22,
   "metadata": {},
   "outputs": [],
   "source": [
    "import gym, pybulletgym\n",
    "import numpy as np\n",
    "import torch\n",
    "import torch.nn as nn\n",
    "import matplotlib.pyplot as plt"
   ]
  },
  {
   "cell_type": "code",
   "execution_count": 5,
   "metadata": {},
   "outputs": [],
   "source": [
    "# Parameters\n",
    "env_name = 'InvertedPendulumMuJoCoEnv-v0'"
   ]
  },
  {
   "cell_type": "code",
   "execution_count": 12,
   "metadata": {},
   "outputs": [],
   "source": [
    "# Setup the env - will reuse this by calling reset on it\n",
    "env = gym.make(env_name)\n",
    "# Get some parameters about the env\n",
    "a_shape = env.action_space.shape\n",
    "s_shape = env.observation_space.shape"
   ]
  },
  {
   "cell_type": "code",
   "execution_count": 19,
   "metadata": {},
   "outputs": [],
   "source": [
    "# FIXME - this should be broken out into a file\n",
    "def sample_trajectory(env, policy, max_steps=200):\n",
    "    \n",
    "    # Trajectory\n",
    "    s_hist = []\n",
    "    a_hist = []\n",
    "    r_hist = []\n",
    "    \n",
    "    s = env.reset()\n",
    "    for _ in range(max_steps):\n",
    "        a = policy.sample(s)\n",
    "        s_next, r, done, _ = env.step(a)\n",
    "        \n",
    "        s_hist.append(s)\n",
    "        a_hist.append(a)\n",
    "        r_hist.append(r)\n",
    "        \n",
    "        s = s_next\n",
    "        \n",
    "        if done[0]:\n",
    "            break\n",
    "    \n",
    "    return s_hist, a_hist, r_hist"
   ]
  },
  {
   "cell_type": "code",
   "execution_count": 66,
   "metadata": {},
   "outputs": [],
   "source": [
    "class Agent(nn.Module):\n",
    "    def __init__(self, obs_space_shape, action_space_shape, hidden_layer_size=16):\n",
    "        super(Agent, self).__init__()\n",
    "        self._obs_space_flat_size = np.prod(obs_space_shape)\n",
    "        self._action_space_size = np.prod(action_space_shape)\n",
    "        self._action_space_shape = action_space_shape\n",
    "        \n",
    "        self.fc1 = nn.Linear(self._obs_space_flat_size, hidden_layer_size)\n",
    "        self.fc2 = nn.Linear(hidden_layer_size, 2*self._action_space_size)\n",
    "        \n",
    "        self._rng = np.random.RandomState(123)\n",
    "    \n",
    "    def __call__(self, x):\n",
    "        x = x.view(-1, self._obs_space_flat_size)\n",
    "        x = self.fc1(x)\n",
    "        x = nn.functional.relu(x)\n",
    "        x = self.fc2(x)\n",
    "        # Policy will model a Gaussian\n",
    "        # [:, 0, ...] gives means\n",
    "        # [:, 1, ...] gives stddevs, after a softplus\n",
    "        x[:, 1, ...] = nn.functional.softplus(x[:, 1, ...])\n",
    "        x = x.view((-1,2,) + self._action_space_shape)\n",
    "        return x\n",
    "    \n",
    "    def sample(self, s):\n",
    "        # Samples will be done one at a time - add fake batch dim\n",
    "        with torch.no_grad():\n",
    "            s = torch.tensor(s, dtype=torch.float32).unsqueeze(0)\n",
    "            gaussian_params = self(s).numpy()\n",
    "            means = gaussian_params[0, 0, ...]\n",
    "            stddevs = gaussian_params[0, 1, ...]\n",
    "        return self._rng.normal(loc=means, scale=stddevs)"
   ]
  },
  {
   "cell_type": "code",
   "execution_count": 67,
   "metadata": {},
   "outputs": [],
   "source": [
    "agent = Agent((4,), (1,))"
   ]
  },
  {
   "cell_type": "code",
   "execution_count": 72,
   "metadata": {},
   "outputs": [
    {
     "data": {
      "text/plain": [
       "array([-0.3009472])"
      ]
     },
     "execution_count": 72,
     "metadata": {},
     "output_type": "execute_result"
    }
   ],
   "source": [
    "agent.sample(np.array([0.0, 0.0, 0.0, 0.0]))"
   ]
  },
  {
   "cell_type": "code",
   "execution_count": 48,
   "metadata": {},
   "outputs": [
    {
     "data": {
      "text/plain": [
       "array([[[ 0,  1,  2,  3,  4],\n",
       "        [ 5,  6,  7,  8,  9],\n",
       "        [10, 11, 12, 13, 14],\n",
       "        [15, 16, 17, 18, 19],\n",
       "        [20, 21, 22, 23, 24]],\n",
       "\n",
       "       [[25, 26, 27, 28, 29],\n",
       "        [30, 31, 32, 33, 34],\n",
       "        [35, 36, 37, 38, 39],\n",
       "        [40, 41, 42, 43, 44],\n",
       "        [45, 46, 47, 48, 49]]])"
      ]
     },
     "execution_count": 48,
     "metadata": {},
     "output_type": "execute_result"
    }
   ],
   "source": [
    "np.array(np.arange(2* 2* 5* 5).reshape((2, 2, 5, 5)))[0, ...]"
   ]
  },
  {
   "cell_type": "code",
   "execution_count": 42,
   "metadata": {},
   "outputs": [],
   "source": [
    "T = torch.tensor([[1.0, 4.5], [-0.5, 9.5]]).view(-1, 4)"
   ]
  },
  {
   "cell_type": "code",
   "execution_count": 43,
   "metadata": {},
   "outputs": [
    {
     "data": {
      "text/plain": [
       "array([[ 1. ,  4.5, -0.5,  9.5]], dtype=float32)"
      ]
     },
     "execution_count": 43,
     "metadata": {},
     "output_type": "execute_result"
    }
   ],
   "source": [
    "T.numpy()"
   ]
  },
  {
   "cell_type": "code",
   "execution_count": 37,
   "metadata": {},
   "outputs": [
    {
     "data": {
      "text/plain": [
       "<function torch.nn.functional.relu(input, inplace=False)>"
      ]
     },
     "execution_count": 37,
     "metadata": {},
     "output_type": "execute_result"
    }
   ],
   "source": [
    "nn.functional.relu"
   ]
  },
  {
   "cell_type": "code",
   "execution_count": 41,
   "metadata": {},
   "outputs": [
    {
     "data": {
      "text/plain": [
       "tensor([[ 1.0000,  4.5000],\n",
       "        [-0.5000,  9.5000]])"
      ]
     },
     "execution_count": 41,
     "metadata": {},
     "output_type": "execute_result"
    }
   ],
   "source": [
    "torch.tensor([[1.0, 4.5], [-0.5, 9.5]]).view((-1,) + (2,))"
   ]
  },
  {
   "cell_type": "code",
   "execution_count": null,
   "metadata": {},
   "outputs": [],
   "source": []
  }
 ],
 "metadata": {
  "kernelspec": {
   "display_name": "Python 3",
   "language": "python",
   "name": "python3"
  },
  "language_info": {
   "codemirror_mode": {
    "name": "ipython",
    "version": 3
   },
   "file_extension": ".py",
   "mimetype": "text/x-python",
   "name": "python",
   "nbconvert_exporter": "python",
   "pygments_lexer": "ipython3",
   "version": "3.7.4"
  }
 },
 "nbformat": 4,
 "nbformat_minor": 2
}
